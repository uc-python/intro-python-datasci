{
 "cells": [
  {
   "cell_type": "markdown",
   "metadata": {
    "slideshow": {
     "slide_type": "slide"
    }
   },
   "source": [
    "# Introduction to Python for Data Science\n",
    "\n",
    "Gus Powers & Jay Cunningham\n",
    "\n",
    "September 11, 13, 18, 20"
   ]
  },
  {
   "cell_type": "markdown",
   "metadata": {
    "slideshow": {
     "slide_type": "slide"
    }
   },
   "source": [
    "## Introductions"
   ]
  },
  {
   "cell_type": "markdown",
   "metadata": {
    "slideshow": {
     "slide_type": "slide"
    }
   },
   "source": [
    "## Gus Powers\n",
    "<table><tr>\n",
    "  <td><img width=\"300\" src=\"images/gus.jpg\"></td>\n",
    "  <td>\n",
    "    <h3><strong>Lead Data Scientist</strong> at 84.51&deg;</h3>\n",
    "    <ul>\n",
    "      <li>Creating and maintaining data science tools for internal use</li>\n",
    "      <li>Python, Bash (shell), & R</li>\n",
    "    </ul>\n",
    "    <h4>Academic</h4>\n",
    "    <ul>\n",
    "      <li>BS, Chemistry, Thomas More College</li>\n",
    "      <li>MS, Chemistry, University of Cincinnati</li>\n",
    "      <li>MS, Business Analytics, University of Cincinnati</li>\n",
    "    </ul>\n",
    "    <h4>Contact</h4>\n",
    "    <ul>\n",
    "      <li>GitHub: <a href=\"https://github.com/augustopher\">augustopher</a></li>\n",
    "      <li>LinkedIn: <a href=\"https://www.linkedin.com/in/august-powers-09717481/\">August Powers</a></li>\n",
    "      <li>Email: <a href=\"mailto:guspowers0@gmail.com\">guspowers0@gmail.com</a></li>\n",
    "    </ul>\n",
    "    </td>\n",
    "</tr></table>"
   ]
  },
  {
   "cell_type": "markdown",
   "metadata": {
    "slideshow": {
     "slide_type": "slide"
    }
   },
   "source": [
    "## Jay Cunningham\n",
    "<table><tr>\n",
    "  <td><img width=\"300\" src=\"images/jay.jpg\"></td>\n",
    "  <td>\n",
    "    <h3><strong>Lead Data Scientist</strong> at 84.51&deg;</h3>\n",
    "    <ul>\n",
    "      <li>Researching and developing forecasting models</li>\n",
    "      <li>Machine learning, Python</li>\n",
    "    </ul>\n",
    "    <h4>Academic</h4>\n",
    "    <ul>\n",
    "        <li>BA, Mathematics, University of Kentucky</li>\n",
    "        <li>MA, Economics, University of North Carolina (Greensboro)</li>\n",
    "    </ul>\n",
    "    <h4>Contact</h4>\n",
    "    <ul>\n",
    "      <li>LinkedIn: <a href=\"https://www.linkedin.com/mwlite/in/jay-cunningham-60612886\">Jay Cunningham</a></li>\n",
    "      <li>Email: <a href=\"mailto:james@notbadafterall.com\">james@notbadafterall.com</a></li>\n",
    "    </ul>\n",
    "    </td>\n",
    "</tr></table>"
   ]
  },
  {
   "cell_type": "markdown",
   "metadata": {
    "slideshow": {
     "slide_type": "skip"
    }
   },
   "source": [
    "## Brad Boehmke\n",
    "<table><tr>\n",
    "    <td><img width=\"300\" src=\"images/brad.jpg\"></td>\n",
    "    <td>\n",
    "      <h4><strong>Director, Data Science</strong> at 84.51&deg;</h4>\n",
    "      <ul>\n",
    "        <li>Productionizing models and science solutions</li>\n",
    "        <li>R&D and protogyping new solutions</li>\n",
    "        <li>Python, R, & MLOps toolchain</li>\n",
    "      </ul>\n",
    "      <h4>Academic</h4>\n",
    "      <ul>\n",
    "          <li>BS, Kinesiology, North Dakota State University</li>\n",
    "          <li>MS, Cost Analytics, Air Force Institute of Technology</li>\n",
    "          <li>PhD, Logistics, Air Force Institute of Technology</li>\n",
    "      </ul>\n",
    "      <h4>Contact</h4>\n",
    "      <ul>\n",
    "          <li>Website: <a href=\"http://bradleyboehmke.github.io/\">bradleyboehmke.github.io</a></li>\n",
    "          <li>GitHub: <a href=\"https://github.com/bradleyboehmke\">bradleyboehmke</a></li>\n",
    "          <li>Twitter: <a href=\"https://twitter.com/bradleyboehmke\">@bradleyboehmke</a></li>\n",
    "          <li>LinkedIn: <a href=\"https://www.linkedin.com/in/brad-boehmke-ph-d-9b0a257\">Brad Boehmke, PhD</a></li>\n",
    "          <li>Email: <a href=\"mailto:bradleyboehmke@gmail.com\">bradleyboehmke@gmail.com</a></li>\n",
    "      </ul>\n",
    "    </td>\n",
    "</tr></table>"
   ]
  },
  {
   "cell_type": "markdown",
   "metadata": {
    "slideshow": {
     "slide_type": "skip"
    }
   },
   "source": [
    "## Ethan Swan\n",
    "<table><tr>\n",
    "  <td><img width=\"300\" src=\"images/ethan.jpg\"></td>\n",
    "  <td>\n",
    "    <h4><strong>Senior Backend Engineer</strong> at ReviewTrackers</h4>\n",
    "    <ul>\n",
    "      <li>Rest API development</li>\n",
    "      <li>Putting ML models in production</li>\n",
    "      <li>Python, Go, Ruby, & ReactJS (JavaScript)</li>\n",
    "    </ul>\n",
    "    <h4>Academic</h4>\n",
    "    <ul>\n",
    "        <li>BS, Computer Science, University of Notre Dame</li>\n",
    "        <li>MBA, Business Analytics, University of Notre Dame</li>\n",
    "    </ul>\n",
    "    <h4>Contact</h4>\n",
    "    <ul>\n",
    "        <li>Website: <a href=\"https://ethanswan.com\">ethanswan.com</a></li>\n",
    "        <li>GitHub: <a href=\"https://github.com/eswan18/\">eswan18</a></li>\n",
    "        <li>Twitter: <a href=\"https://twitter.com/eswan18\">@eswan18</a></li>\n",
    "        <li>LinkedIn: <a href=\"https://linkedin.com/in/ethanpswan\">Ethan Swan</a></li>\n",
    "        <li>Email: <a href=\"mailto:ethanpswan@gmail.com\">ethanpswan@gmail.com</a></li>\n",
    "    </ul>\n",
    "    </td>\n",
    "</tr></table>"
   ]
  },
  {
   "cell_type": "markdown",
   "metadata": {
    "slideshow": {
     "slide_type": "slide"
    }
   },
   "source": [
    "### Around The Room\n",
    "\n",
    "We'll go around the room. Please share:\n",
    "\n",
    "1. Your name\n",
    "2. Your job or field\n",
    "3. How you use Python now or would like to in the future"
   ]
  },
  {
   "cell_type": "markdown",
   "metadata": {
    "slideshow": {
     "slide_type": "slide"
    }
   },
   "source": [
    "## Course"
   ]
  },
  {
   "cell_type": "markdown",
   "metadata": {
    "slideshow": {
     "slide_type": "slide"
    }
   },
   "source": [
    "### Defining Data Science\n",
    "\n",
    "<center>\n",
    "<img src=\"images/data-science.png\" alt=\"data-science.png\" width=\"900\" height=\"900\">\n",
    "</center>"
   ]
  },
  {
   "cell_type": "markdown",
   "metadata": {
    "slideshow": {
     "slide_type": "slide"
    }
   },
   "source": [
    "### Data Science and Technology\n",
    "\n",
    "<center>\n",
    "<img src=\"images/data-science-and-tech.png\" alt=\"data-science-and-tech.png\" width=\"1100\" height=\"1100\">\n",
    "</center>"
   ]
  },
  {
   "cell_type": "markdown",
   "metadata": {
    "slideshow": {
     "slide_type": "slide"
    }
   },
   "source": [
    "### Applied Data Science\n",
    "\n",
    "<center>\n",
    "<img src=\"images/applied-data-science.gif\" alt=\"applied-data-science.gif\" width=\"1200\" height=\"1200\">\n",
    "</center>"
   ]
  },
  {
   "cell_type": "markdown",
   "metadata": {
    "slideshow": {
     "slide_type": "slide"
    }
   },
   "source": [
    "## Course Objectives\n",
    "\n",
    "The following are the primary learning objectives of this course:"
   ]
  },
  {
   "cell_type": "markdown",
   "metadata": {
    "slideshow": {
     "slide_type": "fragment"
    }
   },
   "source": [
    "1. Develop comprehensive skills in the importing/exporting, wrangling, aggregating and joining of data using Python.\n",
    "2. Establish a mental model of the Python programming language to enable future self-learning.\n",
    "3. Build awareness and basic skills in the core data science area of data visualization."
   ]
  },
  {
   "cell_type": "markdown",
   "metadata": {
    "slideshow": {
     "slide_type": "slide"
    }
   },
   "source": [
    "## Course Agenda"
   ]
  },
  {
   "cell_type": "markdown",
   "metadata": {
    "slideshow": {
     "slide_type": "slide"
    }
   },
   "source": [
    "| Day       | Topic                                                                          |     Time      |\n",
    "| :--------:| :----------------------------------------------------------------------------- | :-----------: |\n",
    "| __Day 1__ | Introductions                                                                  | 12:30 - 12:45 |\n",
    "|           | Python and Jupyter Overview                                                    | 12:45 - 1:15  |\n",
    "|           | Fundamentals                                                                   |  1:15 - 2:00  |\n",
    "|           | Break                                                                          |  2:00 - 2:15  |\n",
    "|           | Packages, Modules, Methods, Functions                                          |  2:15 - 3:00  |\n",
    "|           | Importing Data                                                                 |  3:00 - 3:45  |\n",
    "|           | Q&A                                                                            |  3:45 - 4:15  |\n",
    "| __Day 2__ | Q&A                                                                            | 12:45 - 1:15  |\n",
    "|           | Selecting and Filtering Data                                                   |  1:15 - 2:00  |\n",
    "|           | Working with Columns                                                           |  2:00 - 2:45  |\n",
    "|           | Break                                                                          |  2:45 - 3:00  |\n",
    "|           | Case Study, pt. 1                                                              |  3:00 - 3:45  |\n",
    "|           | Q&A                                                                            |  3:45 - 4:15  |"
   ]
  },
  {
   "cell_type": "markdown",
   "metadata": {
    "slideshow": {
     "slide_type": "slide"
    }
   },
   "source": [
    "| Day       | Topic                                                                          |     Time      |\n",
    "| :--------:| :----------------------------------------------------------------------------- | :-----------: |\n",
    "| __Day 3__ | Q&A                                                                            | 12:45 - 1:15  |\n",
    "|           | Review                                                                         |  1:15 - 1:30  |\n",
    "|           | Summarizing Data                                                               |  1:30 - 2:15  |\n",
    "|           | Break                                                                          |  2:15 - 2:30  |\n",
    "|           | Summarizing Grouped Data                                                       |  2:30 - 3:00  |\n",
    "|           | Joining Data                                                                   |  3:00 - 3:45  |\n",
    "|           | Q&A                                                                            |  3:45 - 4:15  |\n",
    "| __Day 4__ | Q&A                                                                            | 12:45 - 1:15  |\n",
    "|           | Exporting Data                                                                 |  1:15 - 1:45  |\n",
    "|           | Visualizing Data                                                               |  1:45 - 2:45  |\n",
    "|           | Break                                                                          |  2:45 - 3:00  |\n",
    "|           | Case Study, pt. 2                                                              |  3:00 - 3:45  |\n",
    "|           | Q&A                                                                            |  3:45 - 4:15  |"
   ]
  },
  {
   "cell_type": "markdown",
   "metadata": {
    "slideshow": {
     "slide_type": "slide"
    }
   },
   "source": [
    "## Technologies"
   ]
  },
  {
   "cell_type": "markdown",
   "metadata": {
    "cell_style": "center",
    "slideshow": {
     "slide_type": "slide"
    }
   },
   "source": [
    "### Binder\n",
    "\n",
    "* We've developed this class using a product named [Binder](https://mybinder.org/).\n",
    "* As a result, this course requires *zero* setup on your part.\n",
    "* There are two core techologies within the Binder repository: Python and Jupyter.\n",
    "\n",
    "*We will cover more on this shortly.*"
   ]
  },
  {
   "cell_type": "markdown",
   "metadata": {
    "cell_style": "split",
    "slideshow": {
     "slide_type": "slide"
    }
   },
   "source": [
    "### Python\n",
    "\n",
    "* Python is the programming language we'll be learning in this class.\n",
    "* We are using Python 3.12, the newest version of Python, for the entirety of this class.\n",
    "* The core libaries we will be using are `pandas` and `seaborn`."
   ]
  },
  {
   "cell_type": "markdown",
   "metadata": {
    "cell_style": "split",
    "slideshow": {
     "slide_type": "fragment"
    }
   },
   "source": [
    "### Jupyter\n",
    "\n",
    "* Jupyter is the integrated development environment (IDE) we will be using.\n",
    "* This is where we will write and run our Python code.\n"
   ]
  },
  {
   "cell_type": "markdown",
   "metadata": {
    "slideshow": {
     "slide_type": "slide"
    }
   },
   "source": [
    "## Course Material"
   ]
  },
  {
   "cell_type": "markdown",
   "metadata": {
    "slideshow": {
     "slide_type": "fragment"
    }
   },
   "source": [
    "* All of the material for this course can be reached from our [GitHub](https://github.com/uc-python/intro-python-datasci) repository."
   ]
  },
  {
   "cell_type": "markdown",
   "metadata": {
    "slideshow": {
     "slide_type": "fragment"
    }
   },
   "source": [
    "* You can either access this material through [Binder](https://mybinder.org/v2/gh/uc-python/intro-python-datasci/main) or by [downloading the material](https://github.com/uc-python/intro-python-datasci/archive/refs/heads/main.zip)\n",
    " and opening it via Anaconda Navigator and JupyterLab."
   ]
  },
  {
   "cell_type": "markdown",
   "metadata": {
    "slideshow": {
     "slide_type": "slide"
    }
   },
   "source": [
    "### Slides *are* notebooks"
   ]
  },
  {
   "cell_type": "markdown",
   "metadata": {
    "slideshow": {
     "slide_type": "fragment"
    }
   },
   "source": [
    "* We will be teaching using slides."
   ]
  },
  {
   "cell_type": "markdown",
   "metadata": {
    "slideshow": {
     "slide_type": "fragment"
    }
   },
   "source": [
    "* These slides are created from the notebooks in the course repository -- so you can follow along and run the code in your notebook."
   ]
  },
  {
   "cell_type": "markdown",
   "metadata": {
    "slideshow": {
     "slide_type": "slide"
    }
   },
   "source": [
    "### Source Code"
   ]
  },
  {
   "cell_type": "markdown",
   "metadata": {
    "slideshow": {
     "slide_type": "fragment"
    }
   },
   "source": [
    "* Source code for the training can be found on [GitHub](https://github.com/uc-python/intro-python-datasci)."
   ]
  },
  {
   "cell_type": "markdown",
   "metadata": {
    "slideshow": {
     "slide_type": "fragment"
    }
   },
   "source": [
    "* This repository is public so you can clone (download) and/or refer to the materials at any point in the future."
   ]
  },
  {
   "cell_type": "markdown",
   "metadata": {
    "slideshow": {
     "slide_type": "slide"
    }
   },
   "source": [
    "## Questions\n",
    "\n",
    "Are there any questions before moving on?"
   ]
  }
 ],
 "metadata": {
  "celltoolbar": "Slideshow",
  "kernelspec": {
   "display_name": "uc-python",
   "language": "python",
   "name": "python3"
  },
  "language_info": {
   "codemirror_mode": {
    "name": "ipython",
    "version": 3
   },
   "file_extension": ".py",
   "mimetype": "text/x-python",
   "name": "python",
   "nbconvert_exporter": "python",
   "pygments_lexer": "ipython3",
   "version": "3.11.4"
  },
  "rise": {
   "autolaunch": true,
   "transition": "none"
  }
 },
 "nbformat": 4,
 "nbformat_minor": 4
}
