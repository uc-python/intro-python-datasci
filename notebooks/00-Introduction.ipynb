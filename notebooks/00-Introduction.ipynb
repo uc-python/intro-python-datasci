{
 "cells": [
  {
   "cell_type": "markdown",
   "metadata": {
    "slideshow": {
     "slide_type": "slide"
    }
   },
   "source": [
    "# Introduction to Python for Data Science\n",
    "\n",
    "Ethan Swan & Brad Boehmke\n",
    "\n",
    "March 9, 11, 16, 18"
   ]
  },
  {
   "cell_type": "markdown",
   "metadata": {
    "slideshow": {
     "slide_type": "slide"
    }
   },
   "source": [
    "## Introductions"
   ]
  },
  {
   "cell_type": "markdown",
   "metadata": {
    "slideshow": {
     "slide_type": "slide"
    }
   },
   "source": [
    "## About Brad\n",
    "<table><tr>\n",
    "    <td><img width=\"300\" src=\"images/brad.jpg\"></td>\n",
    "    <td>\n",
    "      <h4>Professional</h4>\n",
    "      <ul>\n",
    "          <li>Director, Advanced Programming and Technology Solutions Team</li>\n",
    "          <li>84.51&deg;</li>\n",
    "      </ul>\n",
    "      <h4>Academic</h4>\n",
    "      <ul>\n",
    "          <li>BS, Kinesiology, North Dakota State University</li>\n",
    "          <li>MS, Cost Analytics, Air Force Institute of Technology</li>\n",
    "          <li>PhD, Logistics, Air Force Institute of Technology</li>\n",
    "      </ul>\n",
    "      <h4>Contact</h4>\n",
    "      <ul>\n",
    "          <li>Website: <a href=\"http://bradleyboehmke.github.io/\">bradleyboehmke.github.io</a></li>\n",
    "          <li>GitHub: <a href=\"https://github.com/bradleyboehmke\">bradleyboehmke</a></li>\n",
    "          <li>Twitter: <a href=\"https://twitter.com/bradleyboehmke\">@bradleyboehmke</a></li>\n",
    "          <li>LinkedIn: <a href=\"https://www.linkedin.com/in/brad-boehmke-ph-d-9b0a257\">Brad Boehmke, PhD</a></li>\n",
    "          <li>Email: <a href=\"mailto:bradleyboehmke@gmail.com\">bradleyboehmke@gmail.com</a></li>\n",
    "      </ul>\n",
    "    </td>\n",
    "</tr></table>"
   ]
  },
  {
   "cell_type": "markdown",
   "metadata": {
    "slideshow": {
     "slide_type": "slide"
    }
   },
   "source": [
    "## About Ethan\n",
    "<table><tr>\n",
    "  <td><img width=\"300\" src=\"images/ethan.jpg\"></td>\n",
    "  <td>\n",
    "      <h4>Professional</h4>\n",
    "      <ul>\n",
    "          <li>Associate Fullstack Developer</li>\n",
    "          <li>ReviewTrackers</li>\n",
    "      </ul>\n",
    "      <h4>Academic</h4>\n",
    "      <ul>\n",
    "          <li>BS, Computer Science, University of Notre Dame</li>\n",
    "          <li>MBA, Business Analytics, University of Notre Dame</li>\n",
    "      </ul>\n",
    "      <h4>Contact</h4>\n",
    "      <ul>\n",
    "          <li>Website: <a href=\"https://ethanswan.com\">ethanswan.com</a></li>\n",
    "          <li>GitHub: <a href=\"https://github.com/eswan18/\">eswan18</a></li>\n",
    "          <li>Twitter: <a href=\"https://twitter.com/eswan18\">@eswan18</a></li>\n",
    "          <li>LinkedIn: <a href=\"https://linkedin.com/in/ethanpswan\">Ethan Swan</a></li>\n",
    "          <li>Email: <a href=\"mailto:ethanpswan@gmail.com\">ethanpswan@gmail.com</a></li>\n",
    "      </ul>\n",
    "    </td>\n",
    "</tr></table>"
   ]
  },
  {
   "cell_type": "markdown",
   "metadata": {
    "slideshow": {
     "slide_type": "slide"
    }
   },
   "source": [
    "### Around The Room\n",
    "\n",
    "We'll go around the room. Please share:\n",
    "\n",
    "1. Your name\n",
    "2. Your job or field\n",
    "3. How you use Python now or would like to in the future"
   ]
  },
  {
   "cell_type": "markdown",
   "metadata": {
    "slideshow": {
     "slide_type": "slide"
    }
   },
   "source": [
    "## Course"
   ]
  },
  {
   "cell_type": "markdown",
   "metadata": {
    "slideshow": {
     "slide_type": "slide"
    }
   },
   "source": [
    "### Defining Data Science\n",
    "\n",
    "<center>\n",
    "<img src=\"images/data-science.png\" alt=\"data-science.png\" width=\"900\" height=\"900\">\n",
    "</center>"
   ]
  },
  {
   "cell_type": "markdown",
   "metadata": {
    "slideshow": {
     "slide_type": "slide"
    }
   },
   "source": [
    "### Data Science and Technology\n",
    "\n",
    "<center>\n",
    "<img src=\"images/data-science-and-tech.png\" alt=\"data-science-and-tech.png\" width=\"1100\" height=\"1100\">\n",
    "</center>"
   ]
  },
  {
   "cell_type": "markdown",
   "metadata": {
    "slideshow": {
     "slide_type": "slide"
    }
   },
   "source": [
    "### Applied Data Science\n",
    "\n",
    "<center>\n",
    "<img src=\"images/applied-data-science.gif\" alt=\"applied-data-science.gif\" width=\"1200\" height=\"1200\">\n",
    "</center>"
   ]
  },
  {
   "cell_type": "markdown",
   "metadata": {
    "slideshow": {
     "slide_type": "slide"
    }
   },
   "source": [
    "## Course Objectives\n",
    "\n",
    "The following are the primary learning objectives of this course:"
   ]
  },
  {
   "cell_type": "markdown",
   "metadata": {
    "slideshow": {
     "slide_type": "fragment"
    }
   },
   "source": [
    "1. Develop comprehensive skills in the importing/exporting, wrangling, aggregating and joining of data using Python.\n",
    "2. Establish a mental model of the Python programming language to enable future self-learning.\n",
    "3. Build awareness and basic skills in the core data science area of data visualization."
   ]
  },
  {
   "cell_type": "markdown",
   "metadata": {
    "slideshow": {
     "slide_type": "slide"
    }
   },
   "source": [
    "## Course Agenda"
   ]
  },
  {
   "cell_type": "markdown",
   "metadata": {
    "slideshow": {
     "slide_type": "slide"
    }
   },
   "source": [
    "| Day       | Topic                                                                          |     Time      |\n",
    "| :--------:| :----------------------------------------------------------------------------- | :-----------: |\n",
    "| __Day 1__ | Introductions                                                                  |  9:00 - 9:15  |\n",
    "|           | Python and Jupyter Overview                                                    |  9:15 - 9:45  |\n",
    "|           | Fundamentals                                                                   |  9:45 - 10:30 |\n",
    "|           | Break                                                                          | 10:30 - 10:45 |\n",
    "|           | Packages, Modules, Methods, Functions                                          | 10:45 - 11:30 |\n",
    "|           | Importing Data                                                                 | 11:30 - 12:00 |\n",
    "|           | Q\\&A                                                                           | 12:00 - 12:30 |\n",
    "| __Day 2__ | Q\\&A                                                                           |  8:30 - 9:00  |\n",
    "|           | Selecting and Filtering Data                                                   |  9:00 - 10:00 |\n",
    "|           | Working with Columns                                                           | 10:00 - 10:45 |\n",
    "|           | Break                                                                          | 10:45 - 11:00 |\n",
    "|           | Case Study, pt. 1                                                              | 11:00 - 12:00 |\n",
    "|           | Q\\&A                                                                           | 12:00 - 12:30 |\n",
    "| __Day 3__ | Q\\&A                                                                           |  8:30 - 9:00  |\n",
    "|           | Review                                                                         |  9:00 - 9:30  |\n",
    "|           | Summarizing Data                                                               |  9:30 - 10:30 |\n",
    "|           | Break                                                                          | 10:30 - 10:45 |\n",
    "|           | Summarizing Grouped Data                                                       | 10:45 - 11:15 |\n",
    "|           | Joining Data                                                                   | 11:15 - 12:00 |\n",
    "|           | Q\\&A                                                                           | 12:00 - 12:30 |\n",
    "| __Day 4__ | Q\\&A                                                                           |  8:30 - 9:00  |\n",
    "|           | Exporting Data                                                                 |  9:00 - 9:30  |\n",
    "|           | Visualizing Data                                                               |  9:30 - 10:30 |\n",
    "|           | Break                                                                          | 10:30 - 10:45 |\n",
    "|           | Case Study, pt. 2                                                              | 10:45 - 11:30 |\n",
    "|           | Q\\&A                                                                           | 11:30 - 12:00 |"
   ]
  },
  {
   "cell_type": "markdown",
   "metadata": {
    "slideshow": {
     "slide_type": "slide"
    }
   },
   "source": [
    "## Technologies"
   ]
  },
  {
   "cell_type": "markdown",
   "metadata": {
    "cell_style": "center",
    "slideshow": {
     "slide_type": "slide"
    }
   },
   "source": [
    "### Binder\n",
    "\n",
    "* We've developed this class using a product named [Binder](https://mybinder.org/).\n",
    "* As a result, this course requires *zero* setup on your part.\n",
    "* There are two core techologies within the Binder repository: Python and Jupyter.\n",
    "\n",
    "*We will cover more on this shortly.*"
   ]
  },
  {
   "cell_type": "markdown",
   "metadata": {
    "cell_style": "split",
    "slideshow": {
     "slide_type": "slide"
    }
   },
   "source": [
    "### Python\n",
    "\n",
    "* Python is the programming language we'll be learning in this class.\n",
    "* We are using Python 3.9, the newest version of Python, for the entirety of this class.\n",
    "* The core libaries we will be using are `pandas` and `seaborn`."
   ]
  },
  {
   "cell_type": "markdown",
   "metadata": {
    "cell_style": "split",
    "slideshow": {
     "slide_type": "fragment"
    }
   },
   "source": [
    "### Jupyter\n",
    "\n",
    "* Jupyter is the integrated development environment (IDE) we will be using.\n",
    "* This is where we will write and run our Python code.\n"
   ]
  },
  {
   "cell_type": "markdown",
   "metadata": {
    "slideshow": {
     "slide_type": "slide"
    }
   },
   "source": [
    "## Course Material"
   ]
  },
  {
   "cell_type": "markdown",
   "metadata": {
    "slideshow": {
     "slide_type": "fragment"
    }
   },
   "source": [
    "* All of the material for this course can be reached from our [GitHub](https://github.com/uc-python/intro-python-datasci) repository."
   ]
  },
  {
   "cell_type": "markdown",
   "metadata": {
    "slideshow": {
     "slide_type": "fragment"
    }
   },
   "source": [
    "* You can either access this material through [Binder](https://mybinder.org/v2/gh/uc-python/intro-python-datasci/master) or by [downloading the material](https://github.com/uc-python/intro-python-datasci/archive/master.zip)\n",
    " and opening it via Anaconda Navigator and JupyterLab."
   ]
  },
  {
   "cell_type": "markdown",
   "metadata": {
    "slideshow": {
     "slide_type": "slide"
    }
   },
   "source": [
    "### Slides *are* notebooks"
   ]
  },
  {
   "cell_type": "markdown",
   "metadata": {
    "slideshow": {
     "slide_type": "fragment"
    }
   },
   "source": [
    "* We will be teaching using slides."
   ]
  },
  {
   "cell_type": "markdown",
   "metadata": {
    "slideshow": {
     "slide_type": "fragment"
    }
   },
   "source": [
    "* These slides are created from the notebooks in the course repository -- so you can follow along and run the code in your notebook."
   ]
  },
  {
   "cell_type": "markdown",
   "metadata": {
    "slideshow": {
     "slide_type": "slide"
    }
   },
   "source": [
    "### Source Code"
   ]
  },
  {
   "cell_type": "markdown",
   "metadata": {
    "slideshow": {
     "slide_type": "fragment"
    }
   },
   "source": [
    "* Source code for the training can be found on [GitHub](https://github.com/uc-python/intro-python-datasci)."
   ]
  },
  {
   "cell_type": "markdown",
   "metadata": {
    "slideshow": {
     "slide_type": "fragment"
    }
   },
   "source": [
    "* This repository is public so you can clone (download) and/or refer to the materials at any point in the future."
   ]
  },
  {
   "cell_type": "markdown",
   "metadata": {
    "slideshow": {
     "slide_type": "slide"
    }
   },
   "source": [
    "## Questions\n",
    "\n",
    "Are there any questions before moving on?"
   ]
  }
 ],
 "metadata": {
  "celltoolbar": "Slideshow",
  "kernelspec": {
   "display_name": "uc-python",
   "language": "python",
   "name": "uc-python"
  },
  "language_info": {
   "codemirror_mode": {
    "name": "ipython",
    "version": 3
   },
   "file_extension": ".py",
   "mimetype": "text/x-python",
   "name": "python",
   "nbconvert_exporter": "python",
   "pygments_lexer": "ipython3",
   "version": "3.9.7"
  },
  "rise": {
   "autolaunch": true,
   "transition": "none"
  }
 },
 "nbformat": 4,
 "nbformat_minor": 4
}
