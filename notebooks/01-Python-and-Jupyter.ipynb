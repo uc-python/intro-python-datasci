{
 "cells": [
  {
   "cell_type": "markdown",
   "metadata": {
    "slideshow": {
     "slide_type": "slide"
    }
   },
   "source": [
    "# Python and Jupyter Overview\n",
    "\n",
    "![](images/python_jupyter.png)"
   ]
  },
  {
   "cell_type": "markdown",
   "metadata": {
    "slideshow": {
     "slide_type": "slide"
    }
   },
   "source": [
    "## Python"
   ]
  },
  {
   "cell_type": "markdown",
   "metadata": {
    "slideshow": {
     "slide_type": "slide"
    }
   },
   "source": [
    "### Python is..."
   ]
  },
  {
   "cell_type": "markdown",
   "metadata": {
    "slideshow": {
     "slide_type": "fragment"
    }
   },
   "source": [
    "* a *high-level*, *structured*, *open-source*, *interpreted* programming language"
   ]
  },
  {
   "cell_type": "markdown",
   "metadata": {
    "slideshow": {
     "slide_type": "fragment"
    }
   },
   "source": [
    "* a really good choice for almost any programming task"
   ]
  },
  {
   "cell_type": "markdown",
   "metadata": {
    "slideshow": {
     "slide_type": "fragment"
    }
   },
   "source": [
    "* a very popular and effective choice for data science tasks"
   ]
  },
  {
   "cell_type": "markdown",
   "metadata": {
    "slideshow": {
     "slide_type": "slide"
    }
   },
   "source": [
    "According to StackOverflow Trends, more than 11 percent of Stack Overflow questions were tagged with \"python\" in late 2018. All other languages fell well short of this number:\n",
    "\n",
    "| Language | Percent |\n",
    "|----------|---------|\n",
    "| Python   | 11.2%   |\n",
    "| Java     | 7.7%    |\n",
    "| C++      | 2.75%   |\n",
    "| R        | 2.7%    |\n",
    "| Matlab   | < 1%    |\n",
    "| Scala    | < 1%    |\n",
    "| SAS      | < 1%    |\n",
    "| Julia    | < 1%    |"
   ]
  },
  {
   "cell_type": "markdown",
   "metadata": {
    "slideshow": {
     "slide_type": "slide"
    },
    "tags": []
   },
   "source": [
    "More recently, the [2021 Stack Overflow Developer Survey](https://insights.stackoverflow.com/survey/2021) shows that Python is used by over 48% of all \"developers\"\n",
    "\n",
    "<center>\n",
    "<img src=\"images/so_dev_survey.png\" alt=\"Stack Overflow Dev Survey\" width=\"60%\" height=\"60%\">\n",
    "</center>"
   ]
  },
  {
   "cell_type": "markdown",
   "metadata": {
    "slideshow": {
     "slide_type": "slide"
    }
   },
   "source": [
    "### Python in the real world\n",
    "\n",
    "Python is one of the *the most popular programming languages in the world*. It's commonly used for:\n",
    "\n",
    "* Application development\n",
    "* Scripting\n",
    "* Automation\n",
    "* Testing\n",
    "* Data science"
   ]
  },
  {
   "cell_type": "markdown",
   "metadata": {
    "slideshow": {
     "slide_type": "slide"
    }
   },
   "source": [
    "### Python in data science\n",
    "\n",
    "As previously mentioned, Python is also a popular choice in data science. For reference:"
   ]
  },
  {
   "cell_type": "markdown",
   "metadata": {
    "slideshow": {
     "slide_type": "fragment"
    }
   },
   "source": [
    "  * According to KDNuggets, 65.6 percent of data scientists used Python regularly in 2018. This was an *increase* from 54 percent in 2017."
   ]
  },
  {
   "cell_type": "markdown",
   "metadata": {
    "slideshow": {
     "slide_type": "fragment"
    }
   },
   "source": [
    "  * In contrast, R was used by 48.5 percent of data scientists in 2018. This was a *decrease* from 63 percent in 2017."
   ]
  },
  {
   "cell_type": "markdown",
   "metadata": {
    "slideshow": {
     "slide_type": "fragment"
    }
   },
   "source": [
    "<div class=\"admonition note alert alert-info\">\n",
    "    <b><p class=\"first admonition-title\" style=\"font-weight: bold\">Note</p></b>\n",
    "    <p><b>Disclaimer</b>: R is terrific and an <i>excellent</i> tool for data science.</p>\n",
    "</div>"
   ]
  },
  {
   "cell_type": "markdown",
   "metadata": {
    "slideshow": {
     "slide_type": "slide"
    }
   },
   "source": [
    "### Why are data scientists choosing Python?"
   ]
  },
  {
   "cell_type": "markdown",
   "metadata": {
    "slideshow": {
     "slide_type": "fragment"
    }
   },
   "source": [
    "  * It can do anything...so everybody uses it\n",
    " "
   ]
  },
  {
   "cell_type": "markdown",
   "metadata": {
    "slideshow": {
     "slide_type": "fragment"
    },
    "tags": []
   },
   "source": [
    "* Consistency across engineering and data science teams"
   ]
  },
  {
   "cell_type": "markdown",
   "metadata": {
    "slideshow": {
     "slide_type": "fragment"
    }
   },
   "source": [
    "  * Open-source and community support"
   ]
  },
  {
   "cell_type": "markdown",
   "metadata": {
    "slideshow": {
     "slide_type": "fragment"
    }
   },
   "source": [
    "  * Concise syntax, readability and ease-of-use"
   ]
  },
  {
   "cell_type": "markdown",
   "metadata": {
    "slideshow": {
     "slide_type": "fragment"
    }
   },
   "source": [
    "  * Strength in numeric computations and cutting edge data science libraries"
   ]
  },
  {
   "cell_type": "markdown",
   "metadata": {
    "slideshow": {
     "slide_type": "slide"
    }
   },
   "source": [
    "## Jupyter"
   ]
  },
  {
   "cell_type": "markdown",
   "metadata": {
    "slideshow": {
     "slide_type": "slide"
    }
   },
   "source": [
    "### JupyterLab is..."
   ]
  },
  {
   "cell_type": "markdown",
   "metadata": {
    "slideshow": {
     "slide_type": "fragment"
    }
   },
   "source": [
    "* a *language-agnostic integrated development environment (IDE)* specializing in **notebooks**"
   ]
  },
  {
   "cell_type": "markdown",
   "metadata": {
    "slideshow": {
     "slide_type": "fragment"
    }
   },
   "source": [
    "* a popular choice among data scientists using Python"
   ]
  },
  {
   "cell_type": "markdown",
   "metadata": {
    "slideshow": {
     "slide_type": "fragment"
    }
   },
   "source": [
    "<div class=\"admonition note alert alert-info\">\n",
    "    <b><p class=\"first admonition-title\" style=\"font-weight: bold\">Note</p></b>\n",
    "    <p>We've chosen to use Jupyter over other popular IDEs for this course but that does not mean it is always the best IDE for writing Python.</p>\n",
    "</div>"
   ]
  },
  {
   "cell_type": "markdown",
   "metadata": {
    "slideshow": {
     "slide_type": "slide"
    }
   },
   "source": [
    "### Why are data scientists choosing Jupyter?"
   ]
  },
  {
   "cell_type": "markdown",
   "metadata": {
    "slideshow": {
     "slide_type": "fragment"
    }
   },
   "source": [
    "* Ad-hoc analyses and science development"
   ]
  },
  {
   "cell_type": "markdown",
   "metadata": {
    "slideshow": {
     "slide_type": "fragment"
    }
   },
   "source": [
    "* Synchronous data visualizations"
   ]
  },
  {
   "cell_type": "markdown",
   "metadata": {
    "slideshow": {
     "slide_type": "fragment"
    }
   },
   "source": [
    "* Documentation of code with accompanying comments"
   ]
  },
  {
   "cell_type": "markdown",
   "metadata": {
    "slideshow": {
     "slide_type": "fragment"
    }
   },
   "source": [
    "* Flexibility through extensions"
   ]
  },
  {
   "cell_type": "markdown",
   "metadata": {
    "slideshow": {
     "slide_type": "slide"
    }
   },
   "source": [
    "### Reasons you may want to use another IDE..."
   ]
  },
  {
   "cell_type": "markdown",
   "metadata": {
    "slideshow": {
     "slide_type": "fragment"
    }
   },
   "source": [
    "* Jupyter is not good for developing *scripts*, or Python code that isn't run interactively"
   ]
  },
  {
   "cell_type": "markdown",
   "metadata": {
    "slideshow": {
     "slide_type": "fragment"
    }
   },
   "source": [
    "* It's not trivial to install and launch Jupyter without a tech background"
   ]
  },
  {
   "cell_type": "markdown",
   "metadata": {
    "slideshow": {
     "slide_type": "fragment"
    }
   },
   "source": [
    "<div class=\"admonition note alert alert-info\">\n",
    "    <b><p class=\"first admonition-title\" style=\"font-weight: bold\">Note</p></b>\n",
    "    <p>We've minimized these challenges for this workshop by using Binder.  If you are interested in installing and using Jupyter and Python on your own machine, we recommend using <a href=\"https://jupyter.readthedocs.io/en/latest/install.html\">Anaconda</a> to do so.</p>\n",
    "</div>"
   ]
  },
  {
   "cell_type": "markdown",
   "metadata": {
    "slideshow": {
     "slide_type": "slide"
    }
   },
   "source": [
    "## Jupyter Basics"
   ]
  },
  {
   "cell_type": "markdown",
   "metadata": {
    "slideshow": {
     "slide_type": "slide"
    }
   },
   "source": [
    "### Launching Jupyter \n",
    "\n",
    "Let's begin by launching Jupyter by opening the [Binder repository](https://mybinder.org/v2/gh/uc-python/intro-python-datasci/master?urlpath=lab). This is how we will access Jupyter throughout the course."
   ]
  },
  {
   "cell_type": "markdown",
   "metadata": {
    "slideshow": {
     "slide_type": "fragment"
    }
   },
   "source": [
    "You should see a screen like this:\n",
    "\n",
    "![binder-launching.png](images/binder-launching.png)"
   ]
  },
  {
   "cell_type": "markdown",
   "metadata": {
    "slideshow": {
     "slide_type": "slide"
    }
   },
   "source": [
    "Jupyter can also be launched via Anaconda Navigator:\n",
    "\n",
    "<center>\n",
    "<img src=\"images/navigator-jupyter.png\" alt=\"navigator-jupyter.png\" width=\"900\" height=\"900\">\n",
    "</center>"
   ]
  },
  {
   "cell_type": "markdown",
   "metadata": {
    "slideshow": {
     "slide_type": "fragment"
    }
   },
   "source": [
    "Note that we want to launch the JupyterLab option for this class."
   ]
  },
  {
   "cell_type": "markdown",
   "metadata": {
    "slideshow": {
     "slide_type": "slide"
    }
   },
   "source": [
    "### Jupyter File Structure"
   ]
  },
  {
   "cell_type": "markdown",
   "metadata": {
    "slideshow": {
     "slide_type": "fragment"
    }
   },
   "source": [
    "As you can see, Jupyter displays a file browser when it launches:\n",
    "\n",
    "![jupyter-file-structure.png](images/jupyter-file-structure.png)"
   ]
  },
  {
   "cell_type": "markdown",
   "metadata": {
    "slideshow": {
     "slide_type": "slide"
    }
   },
   "source": [
    "There is just one directory for you to worry about:\n",
    "\n",
    "**notebooks** - interactive slideshows and code for you to follow along with"
   ]
  },
  {
   "cell_type": "markdown",
   "metadata": {
    "slideshow": {
     "slide_type": "slide"
    }
   },
   "source": [
    "### Jupyter Notebooks"
   ]
  },
  {
   "cell_type": "markdown",
   "metadata": {
    "slideshow": {
     "slide_type": "fragment"
    }
   },
   "source": [
    "The **notebook** is the core file used to interact with Python from Jupyter. A few details:"
   ]
  },
  {
   "cell_type": "markdown",
   "metadata": {
    "slideshow": {
     "slide_type": "fragment"
    }
   },
   "source": [
    "* Notebooks allow the writing AND running of Python code"
   ]
  },
  {
   "cell_type": "markdown",
   "metadata": {
    "slideshow": {
     "slide_type": "fragment"
    }
   },
   "source": [
    "* Notebooks are organized by **cells** - code and commentary text goes in the cells"
   ]
  },
  {
   "cell_type": "markdown",
   "metadata": {
    "slideshow": {
     "slide_type": "fragment"
    }
   },
   "source": [
    "* All notebook files have the extension `.ipynb` (**i**nteractive **py**thon **n**ote**b**ook)"
   ]
  },
  {
   "cell_type": "markdown",
   "metadata": {
    "slideshow": {
     "slide_type": "slide"
    }
   },
   "source": [
    "A new Jupyter notebook can be opened from the \"launcher\" page, which opens automatically when you start JupyterLab.\n",
    "\n",
    "There may be multiple options listed in the Notebooks section, as seen here. These are different Python installations available on your computer. You should choose **Python 3** in this case.\n",
    "\n",
    "![open-jupyter-notebook](images/open-jupyter-notebook.png)"
   ]
  },
  {
   "cell_type": "markdown",
   "metadata": {
    "slideshow": {
     "slide_type": "slide"
    }
   },
   "source": [
    "This will open a new notebook with a Python 3 kernel:\n",
    "\n",
    "![new-jupyter-notebook](images/new-jupyter-notebook.png)"
   ]
  },
  {
   "cell_type": "markdown",
   "metadata": {
    "slideshow": {
     "slide_type": "slide"
    }
   },
   "source": [
    "### Notebook Cells"
   ]
  },
  {
   "cell_type": "markdown",
   "metadata": {
    "slideshow": {
     "slide_type": "fragment"
    }
   },
   "source": [
    "As previously mentioned, Jupyter notebooks are organized by **cells**. These cells are at the core of a notebook:"
   ]
  },
  {
   "cell_type": "markdown",
   "metadata": {
    "slideshow": {
     "slide_type": "fragment"
    }
   },
   "source": [
    "* When using Jupyter, all Python code is typed into and run from a cell"
   ]
  },
  {
   "cell_type": "markdown",
   "metadata": {
    "slideshow": {
     "slide_type": "fragment"
    }
   },
   "source": [
    "* Comments, markdown, HTML, LaTeX can also be rendered within a cell"
   ]
  },
  {
   "cell_type": "markdown",
   "metadata": {
    "slideshow": {
     "slide_type": "slide"
    }
   },
   "source": [
    "### Code Cells\n",
    "\n",
    "By default, all cells are code cells. This means Python code can be run by simply:\n",
    "\n",
    "1. Clicking on a cell's input area\n",
    "2. Typing Python code into the cell\n",
    "3. Pressing CTRL + RETURN (or SHIFT + RETURN)"
   ]
  },
  {
   "cell_type": "markdown",
   "metadata": {
    "slideshow": {
     "slide_type": "fragment"
    }
   },
   "source": [
    "The results of the code will be printed to the output area:\n",
    "\n",
    "![python-code-cell.png](images/python-code-cell.png)"
   ]
  },
  {
   "cell_type": "markdown",
   "metadata": {
    "slideshow": {
     "slide_type": "slide"
    }
   },
   "source": [
    "### Comment/Markdown/HTML/LaTeX Cells\n",
    "\n",
    "Cells can be converted to text-oriented cells by:\n",
    "\n",
    "1. Selecting a cell by clicking on it\n",
    "2. Clicking the \"Code\" dropdown on the edit panel\n",
    "3. Clicking the \"Markdown\" option\n",
    "\n",
    "![markdown-cell-selection.png](images/markdown-cell-selection.png)"
   ]
  },
  {
   "cell_type": "markdown",
   "metadata": {
    "slideshow": {
     "slide_type": "slide"
    }
   },
   "source": [
    "Text can then be typed into these cells (regular text, markdown, HTML, LaTeX):\n",
    "\n",
    "![markdown-cell-unrendered.png](images/markdown-cell-unrendered.png)"
   ]
  },
  {
   "cell_type": "markdown",
   "metadata": {
    "slideshow": {
     "slide_type": "slide"
    }
   },
   "source": [
    "And it can be rendered by pressing CTRL + RETURN:\n",
    "\n",
    "![markdown-cell-rendered.png](images/markdown-cell-rendered.png)"
   ]
  },
  {
   "cell_type": "markdown",
   "metadata": {
    "slideshow": {
     "slide_type": "slide"
    }
   },
   "source": [
    "### Inserting New Cells\n",
    "\n",
    "New cells can be inserted by selecting a cell by clicking on it and\n",
    "\n",
    "* Clicking the \"+\" menu button add a new cell below the selected one\n",
    "* Or using the keyboard shortcut `\"a\"` to insert cell above or `\"b\"` to insert cell below\n",
    "\n",
    "![insert-new-cell.png](images/insert-new-cell.png)"
   ]
  },
  {
   "cell_type": "markdown",
   "metadata": {
    "slideshow": {
     "slide_type": "slide"
    }
   },
   "source": [
    "### Your Turn\n",
    "\n",
    "1. Create or open a notebook in Jupyter.\n",
    "2. Create a new *markdown* cell. Write your name in it.\n",
    "3. Create a new *code* cell. Write `x = 5` and run it."
   ]
  },
  {
   "cell_type": "markdown",
   "metadata": {
    "slideshow": {
     "slide_type": "slide"
    }
   },
   "source": [
    "### Additional Tips"
   ]
  },
  {
   "cell_type": "markdown",
   "metadata": {
    "slideshow": {
     "slide_type": "fragment"
    }
   },
   "source": [
    "* Notebooks can be saved by clicking \"File\" -> \"Save Notebook As...\""
   ]
  },
  {
   "cell_type": "markdown",
   "metadata": {
    "slideshow": {
     "slide_type": "fragment"
    }
   },
   "source": [
    "* An easy way to find a feature or its related keyboard shortcut is \"View\" -> \"Activate Command Palette\""
   ]
  },
  {
   "cell_type": "markdown",
   "metadata": {
    "slideshow": {
     "slide_type": "fragment"
    }
   },
   "source": [
    "* Notebooks can be downloaded from Binder in numerous formats by clicking \"File\" -> \"Download\"\n",
    "  * This is a great way to save your work when using Binder. These notebooks can then be reloaded at any time.\n",
    "  \n",
    "     <div class=\"admonition warning alert alert-danger\">\n",
    "      <b><p class=\"first admonition-title\" style=\"font-weight: bold\">Caution!</p></b>\n",
    "      <p>New content created in Binder does not persist across sessions. Also, Binder tends to shutdown after a few minutes of inactivity. Save and download your work accordingly!</p>\n",
    "     </div>"
   ]
  },
  {
   "cell_type": "markdown",
   "metadata": {
    "slideshow": {
     "slide_type": "slide"
    }
   },
   "source": [
    "## Questions\n",
    "\n",
    "Are there any questions before moving on?"
   ]
  }
 ],
 "metadata": {
  "celltoolbar": "Slideshow",
  "kernelspec": {
   "display_name": "Python 3 (ipykernel)",
   "language": "python",
   "name": "python3"
  },
  "language_info": {
   "codemirror_mode": {
    "name": "ipython",
    "version": 3
   },
   "file_extension": ".py",
   "mimetype": "text/x-python",
   "name": "python",
   "nbconvert_exporter": "python",
   "pygments_lexer": "ipython3",
   "version": "3.8.12"
  },
  "rise": {
   "autolaunch": true,
   "transition": "none"
  }
 },
 "nbformat": 4,
 "nbformat_minor": 4
}
