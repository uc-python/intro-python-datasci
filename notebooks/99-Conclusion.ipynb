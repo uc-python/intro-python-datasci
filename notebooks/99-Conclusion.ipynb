{
 "cells": [
  {
   "cell_type": "markdown",
   "metadata": {
    "slideshow": {
     "slide_type": "slide"
    }
   },
   "source": [
    "# Conclusion"
   ]
  },
  {
   "cell_type": "markdown",
   "metadata": {
    "slideshow": {
     "slide_type": "fragment"
    }
   },
   "source": [
    "- We've done a lot in 2 days (4 half days)!\n",
    "\n",
    "- Much more to learn, but you have the tools to keep going\n",
    "\n",
    "- The internet (Google, Stackoverflow) is your friend"
   ]
  },
  {
   "cell_type": "markdown",
   "metadata": {
    "slideshow": {
     "slide_type": "slide"
    }
   },
   "source": [
    "## Resources"
   ]
  },
  {
   "cell_type": "markdown",
   "metadata": {
    "slideshow": {
     "slide_type": "fragment"
    }
   },
   "source": [
    "- **[The Python Data Science Handbook](https://www.amazon.com/Python-Data-Science-Handbook-Essential/dp/1491912057/ref=sr_1_3?gclid=CjwKCAiAvOeQBhBkEiwAxutUVMb5JDDzkdkZ7L6NU2ZszLMQ3HiF2jwfJcRWzgR82Jn7xHQoIvxBNhoCPUYQAvD_BwE&hvadid=295647768930&hvdev=c&hvlocphy=9015764&hvnetw=g&hvqmt=e&hvrand=14740440715626152632&hvtargid=kwd-569733732214&hydadcr=16433_10305449&keywords=python+for+data+science+handbook&qid=1645918824&sr=8-3)** by Jake VanderPlas.\n",
    "    - Approachable, broad, well-written\n",
    "    - Available free online\n",
    "- **[Python for Data Analysis](https://www.amazon.com/Python-Data-Analysis-Wrangling-IPython/dp/1491957662/ref=pd_bxgy_img_1/135-0822721-0203815?pd_rd_w=JxvrQ&pf_rd_p=6b3eefea-7b16-43e9-bc45-2e332cbf99da&pf_rd_r=WD9EEXM2VVP0ER90XSE6&pd_rd_r=f7ca71ce-a552-4acb-a083-e51193d09d8e&pd_rd_wg=8ngen&pd_rd_i=1491957662&psc=1)** by Wes McKinney\n",
    "    - Dense but extremely thorough\n",
    "    - Probably the most comprehensive guide to Pandas\n",
    "- **[Hands-On Machine Learning](https://www.amazon.com/Hands-Machine-Learning-Scikit-Learn-TensorFlow/dp/1492032646/ref=pd_bxgy_img_2/135-0822721-0203815?pd_rd_w=JxvrQ&pf_rd_p=6b3eefea-7b16-43e9-bc45-2e332cbf99da&pf_rd_r=WD9EEXM2VVP0ER90XSE6&pd_rd_r=f7ca71ce-a552-4acb-a083-e51193d09d8e&pd_rd_wg=8ngen&pd_rd_i=1492032646&psc=1)** by Aurélien Géron\n",
    "    - Approachable but advances quickly\n",
    "    - Most popular machine learning book for Python"
   ]
  },
  {
   "cell_type": "markdown",
   "metadata": {
    "jp-MarkdownHeadingCollapsed": true,
    "slideshow": {
     "slide_type": "slide"
    },
    "tags": []
   },
   "source": [
    "## Additional UC Python courses\n",
    "\n",
    "* **[Intermediate Python for Data Science](https://github.com/uc-python/intermediate-python-datasci)**\n",
    "    - Learn to use control flow and custom functions to work with data more efficiently.\n",
    "    - Build awareness and basic skills in working with Python from the shell and its environments.\n",
    "    - Exposure to Python's data science ecosystem and modeling via scikit-learn.\n",
    "* **[Advanced Python for Data Science](https://github.com/uc-python/advanced-python-datasci)**\n",
    "    - Develop an intuition for the machine learning workflow and Python tooling.\n",
    "    - Build familiarity with common software engineering tooling and methodologies for implementing a machine learning project.\n",
    "    - Gain a high-level understanding of the function of data science-adjacent technologies that students will encounter in the workplace, focusing on Git and GitHub."
   ]
  },
  {
   "cell_type": "markdown",
   "metadata": {
    "slideshow": {
     "slide_type": "slide"
    }
   },
   "source": [
    "## Thank You"
   ]
  },
  {
   "cell_type": "markdown",
   "metadata": {
    "slideshow": {
     "slide_type": "fragment"
    }
   },
   "source": [
    "- We love being able to teach these workshops and we hope you enjoyed it as well!\n",
    "\n",
    "- We appreciate your feedback on the workshop. Constructive feedback allows us to continue to improve this course."
   ]
  }
 ],
 "metadata": {
  "celltoolbar": "Slideshow",
  "kernelspec": {
   "display_name": "Python 3 (ipykernel)",
   "language": "python",
   "name": "python3"
  },
  "language_info": {
   "codemirror_mode": {
    "name": "ipython",
    "version": 3
   },
   "file_extension": ".py",
   "mimetype": "text/x-python",
   "name": "python",
   "nbconvert_exporter": "python",
   "pygments_lexer": "ipython3",
   "version": "3.8.12"
  },
  "rise": {
   "autolaunch": true,
   "transition": "none"
  }
 },
 "nbformat": 4,
 "nbformat_minor": 4
}
